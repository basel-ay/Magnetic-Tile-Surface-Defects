{
  "nbformat": 4,
  "nbformat_minor": 0,
  "metadata": {
    "colab": {
      "provenance": []
    },
    "kernelspec": {
      "name": "python3",
      "display_name": "Python 3"
    },
    "language_info": {
      "name": "python"
    },
    "widgets": {
      "application/vnd.jupyter.widget-state+json": {
        "0b84352159254fd881241ff0c463bd7a": {
          "model_module": "@jupyter-widgets/controls",
          "model_name": "HBoxModel",
          "model_module_version": "1.5.0",
          "state": {
            "_dom_classes": [],
            "_model_module": "@jupyter-widgets/controls",
            "_model_module_version": "1.5.0",
            "_model_name": "HBoxModel",
            "_view_count": null,
            "_view_module": "@jupyter-widgets/controls",
            "_view_module_version": "1.5.0",
            "_view_name": "HBoxView",
            "box_style": "",
            "children": [
              "IPY_MODEL_9aaca9ba93c048fa8e9ab7e3e24ae14e",
              "IPY_MODEL_d28bb212cdf64ed489cae70c7f9a98c6",
              "IPY_MODEL_a2bcc672b7894b9a954bfc771d130831"
            ],
            "layout": "IPY_MODEL_1f35ddd6cf804e49b718a25e6d9ffc26"
          }
        },
        "9aaca9ba93c048fa8e9ab7e3e24ae14e": {
          "model_module": "@jupyter-widgets/controls",
          "model_name": "HTMLModel",
          "model_module_version": "1.5.0",
          "state": {
            "_dom_classes": [],
            "_model_module": "@jupyter-widgets/controls",
            "_model_module_version": "1.5.0",
            "_model_name": "HTMLModel",
            "_view_count": null,
            "_view_module": "@jupyter-widgets/controls",
            "_view_module_version": "1.5.0",
            "_view_name": "HTMLView",
            "description": "",
            "description_tooltip": null,
            "layout": "IPY_MODEL_da0c70ef3e3247be8f0ce143d64cdab2",
            "placeholder": "​",
            "style": "IPY_MODEL_2182215cac584206a8048fb578ece39c",
            "value": "100%"
          }
        },
        "d28bb212cdf64ed489cae70c7f9a98c6": {
          "model_module": "@jupyter-widgets/controls",
          "model_name": "FloatProgressModel",
          "model_module_version": "1.5.0",
          "state": {
            "_dom_classes": [],
            "_model_module": "@jupyter-widgets/controls",
            "_model_module_version": "1.5.0",
            "_model_name": "FloatProgressModel",
            "_view_count": null,
            "_view_module": "@jupyter-widgets/controls",
            "_view_module_version": "1.5.0",
            "_view_name": "ProgressView",
            "bar_style": "success",
            "description": "",
            "description_tooltip": null,
            "layout": "IPY_MODEL_5526b896dab7474089cb112b17157859",
            "max": 392,
            "min": 0,
            "orientation": "horizontal",
            "style": "IPY_MODEL_47f6b183d9034e8f963a20dc87e7476d",
            "value": 392
          }
        },
        "a2bcc672b7894b9a954bfc771d130831": {
          "model_module": "@jupyter-widgets/controls",
          "model_name": "HTMLModel",
          "model_module_version": "1.5.0",
          "state": {
            "_dom_classes": [],
            "_model_module": "@jupyter-widgets/controls",
            "_model_module_version": "1.5.0",
            "_model_name": "HTMLModel",
            "_view_count": null,
            "_view_module": "@jupyter-widgets/controls",
            "_view_module_version": "1.5.0",
            "_view_name": "HTMLView",
            "description": "",
            "description_tooltip": null,
            "layout": "IPY_MODEL_ee69590eb8824a298156e86da312b3ac",
            "placeholder": "​",
            "style": "IPY_MODEL_a6450b3302cf4677a6244ec38fd0adba",
            "value": " 392/392 [00:01&lt;00:00, 343.02it/s]"
          }
        },
        "1f35ddd6cf804e49b718a25e6d9ffc26": {
          "model_module": "@jupyter-widgets/base",
          "model_name": "LayoutModel",
          "model_module_version": "1.2.0",
          "state": {
            "_model_module": "@jupyter-widgets/base",
            "_model_module_version": "1.2.0",
            "_model_name": "LayoutModel",
            "_view_count": null,
            "_view_module": "@jupyter-widgets/base",
            "_view_module_version": "1.2.0",
            "_view_name": "LayoutView",
            "align_content": null,
            "align_items": null,
            "align_self": null,
            "border": null,
            "bottom": null,
            "display": null,
            "flex": null,
            "flex_flow": null,
            "grid_area": null,
            "grid_auto_columns": null,
            "grid_auto_flow": null,
            "grid_auto_rows": null,
            "grid_column": null,
            "grid_gap": null,
            "grid_row": null,
            "grid_template_areas": null,
            "grid_template_columns": null,
            "grid_template_rows": null,
            "height": null,
            "justify_content": null,
            "justify_items": null,
            "left": null,
            "margin": null,
            "max_height": null,
            "max_width": null,
            "min_height": null,
            "min_width": null,
            "object_fit": null,
            "object_position": null,
            "order": null,
            "overflow": null,
            "overflow_x": null,
            "overflow_y": null,
            "padding": null,
            "right": null,
            "top": null,
            "visibility": null,
            "width": null
          }
        },
        "da0c70ef3e3247be8f0ce143d64cdab2": {
          "model_module": "@jupyter-widgets/base",
          "model_name": "LayoutModel",
          "model_module_version": "1.2.0",
          "state": {
            "_model_module": "@jupyter-widgets/base",
            "_model_module_version": "1.2.0",
            "_model_name": "LayoutModel",
            "_view_count": null,
            "_view_module": "@jupyter-widgets/base",
            "_view_module_version": "1.2.0",
            "_view_name": "LayoutView",
            "align_content": null,
            "align_items": null,
            "align_self": null,
            "border": null,
            "bottom": null,
            "display": null,
            "flex": null,
            "flex_flow": null,
            "grid_area": null,
            "grid_auto_columns": null,
            "grid_auto_flow": null,
            "grid_auto_rows": null,
            "grid_column": null,
            "grid_gap": null,
            "grid_row": null,
            "grid_template_areas": null,
            "grid_template_columns": null,
            "grid_template_rows": null,
            "height": null,
            "justify_content": null,
            "justify_items": null,
            "left": null,
            "margin": null,
            "max_height": null,
            "max_width": null,
            "min_height": null,
            "min_width": null,
            "object_fit": null,
            "object_position": null,
            "order": null,
            "overflow": null,
            "overflow_x": null,
            "overflow_y": null,
            "padding": null,
            "right": null,
            "top": null,
            "visibility": null,
            "width": null
          }
        },
        "2182215cac584206a8048fb578ece39c": {
          "model_module": "@jupyter-widgets/controls",
          "model_name": "DescriptionStyleModel",
          "model_module_version": "1.5.0",
          "state": {
            "_model_module": "@jupyter-widgets/controls",
            "_model_module_version": "1.5.0",
            "_model_name": "DescriptionStyleModel",
            "_view_count": null,
            "_view_module": "@jupyter-widgets/base",
            "_view_module_version": "1.2.0",
            "_view_name": "StyleView",
            "description_width": ""
          }
        },
        "5526b896dab7474089cb112b17157859": {
          "model_module": "@jupyter-widgets/base",
          "model_name": "LayoutModel",
          "model_module_version": "1.2.0",
          "state": {
            "_model_module": "@jupyter-widgets/base",
            "_model_module_version": "1.2.0",
            "_model_name": "LayoutModel",
            "_view_count": null,
            "_view_module": "@jupyter-widgets/base",
            "_view_module_version": "1.2.0",
            "_view_name": "LayoutView",
            "align_content": null,
            "align_items": null,
            "align_self": null,
            "border": null,
            "bottom": null,
            "display": null,
            "flex": null,
            "flex_flow": null,
            "grid_area": null,
            "grid_auto_columns": null,
            "grid_auto_flow": null,
            "grid_auto_rows": null,
            "grid_column": null,
            "grid_gap": null,
            "grid_row": null,
            "grid_template_areas": null,
            "grid_template_columns": null,
            "grid_template_rows": null,
            "height": null,
            "justify_content": null,
            "justify_items": null,
            "left": null,
            "margin": null,
            "max_height": null,
            "max_width": null,
            "min_height": null,
            "min_width": null,
            "object_fit": null,
            "object_position": null,
            "order": null,
            "overflow": null,
            "overflow_x": null,
            "overflow_y": null,
            "padding": null,
            "right": null,
            "top": null,
            "visibility": null,
            "width": null
          }
        },
        "47f6b183d9034e8f963a20dc87e7476d": {
          "model_module": "@jupyter-widgets/controls",
          "model_name": "ProgressStyleModel",
          "model_module_version": "1.5.0",
          "state": {
            "_model_module": "@jupyter-widgets/controls",
            "_model_module_version": "1.5.0",
            "_model_name": "ProgressStyleModel",
            "_view_count": null,
            "_view_module": "@jupyter-widgets/base",
            "_view_module_version": "1.2.0",
            "_view_name": "StyleView",
            "bar_color": null,
            "description_width": ""
          }
        },
        "ee69590eb8824a298156e86da312b3ac": {
          "model_module": "@jupyter-widgets/base",
          "model_name": "LayoutModel",
          "model_module_version": "1.2.0",
          "state": {
            "_model_module": "@jupyter-widgets/base",
            "_model_module_version": "1.2.0",
            "_model_name": "LayoutModel",
            "_view_count": null,
            "_view_module": "@jupyter-widgets/base",
            "_view_module_version": "1.2.0",
            "_view_name": "LayoutView",
            "align_content": null,
            "align_items": null,
            "align_self": null,
            "border": null,
            "bottom": null,
            "display": null,
            "flex": null,
            "flex_flow": null,
            "grid_area": null,
            "grid_auto_columns": null,
            "grid_auto_flow": null,
            "grid_auto_rows": null,
            "grid_column": null,
            "grid_gap": null,
            "grid_row": null,
            "grid_template_areas": null,
            "grid_template_columns": null,
            "grid_template_rows": null,
            "height": null,
            "justify_content": null,
            "justify_items": null,
            "left": null,
            "margin": null,
            "max_height": null,
            "max_width": null,
            "min_height": null,
            "min_width": null,
            "object_fit": null,
            "object_position": null,
            "order": null,
            "overflow": null,
            "overflow_x": null,
            "overflow_y": null,
            "padding": null,
            "right": null,
            "top": null,
            "visibility": null,
            "width": null
          }
        },
        "a6450b3302cf4677a6244ec38fd0adba": {
          "model_module": "@jupyter-widgets/controls",
          "model_name": "DescriptionStyleModel",
          "model_module_version": "1.5.0",
          "state": {
            "_model_module": "@jupyter-widgets/controls",
            "_model_module_version": "1.5.0",
            "_model_name": "DescriptionStyleModel",
            "_view_count": null,
            "_view_module": "@jupyter-widgets/base",
            "_view_module_version": "1.2.0",
            "_view_name": "StyleView",
            "description_width": ""
          }
        }
      }
    }
  },
  "cells": [
    {
      "cell_type": "code",
      "execution_count": 1,
      "metadata": {
        "id": "DARmnirkD8kZ"
      },
      "outputs": [],
      "source": [
        "import sys\n",
        "sys.path.append(\"..\")"
      ]
    },
    {
      "cell_type": "code",
      "source": [
        "import os\n",
        "import shutil\n",
        "import numpy as np\n",
        "\n",
        "from fastai.vision.all import *\n",
        "from pathlib import Path\n",
        "from tqdm.auto import tqdm\n",
        "from urllib.request import urlopen\n",
        "from io import BytesIO\n",
        "from zipfile import ZipFile"
      ],
      "metadata": {
        "id": "FrBMA6AcELRE"
      },
      "execution_count": 3,
      "outputs": []
    },
    {
      "cell_type": "code",
      "source": [
        "def download_and_unzip(url, extract_to='.'):\n",
        "  \"\"\"\n",
        "  Takes an url to download and unzip the dataset\n",
        "  \"\"\"\n",
        "  http_response = urlopen(url)\n",
        "  zipfile = ZipFile(BytesIO(http_response.read()))\n",
        "  zipfile.extractall(path=extract_to)\n",
        "\n",
        "\n",
        "PROJ_PATH = Path.cwd().parent\n",
        "DATA_PATH = PROJ_PATH/'data'\n",
        "print(PROJ_PATH)\n",
        "print(DATA_PATH)"
      ],
      "metadata": {
        "colab": {
          "base_uri": "https://localhost:8080/"
        },
        "id": "Km0nVtZhEXNL",
        "outputId": "89c32c49-1124-4fb7-d6f0-294debf7e16f"
      },
      "execution_count": 4,
      "outputs": [
        {
          "output_type": "stream",
          "name": "stdout",
          "text": [
            "/\n",
            "/data\n"
          ]
        }
      ]
    },
    {
      "cell_type": "code",
      "source": [
        "download_and_unzip(url='https://github.com/abin24/Magnetic-tile-defect-datasets./archive/refs/heads/master.zip',\n",
        "                   extract_to=DATA_PATH)\n",
        "\n",
        "extract_dir = DATA_PATH/'Magnetic-tile-defect-datasets.-master'"
      ],
      "metadata": {
        "id": "fndvmdJKEzFU"
      },
      "execution_count": 10,
      "outputs": []
    },
    {
      "cell_type": "code",
      "source": [
        "dataset_path = DATA_PATH/'MAGNETIC_TILE_SURFACE_DEFECTS'\n",
        "\n",
        "if dataset_path.is_dir():\n",
        "    shutil.rmtree(dataset_path)\n",
        "\n",
        "if extract_dir.is_dir():\n",
        "    shutil.move(extract_dir, dataset_path)\n",
        "dataset_path.ls()\n"
      ],
      "metadata": {
        "colab": {
          "base_uri": "https://localhost:8080/"
        },
        "id": "V03IsegkFA-6",
        "outputId": "a6bebc22-bf70-4a9b-cb70-942bec51383a"
      },
      "execution_count": 11,
      "outputs": [
        {
          "output_type": "execute_result",
          "data": {
            "text/plain": [
              "(#9) [Path('/data/MAGNETIC_TILE_SURFACE_DEFECTS/MT_Free'),Path('/data/MAGNETIC_TILE_SURFACE_DEFECTS/MT_Break'),Path('/data/MAGNETIC_TILE_SURFACE_DEFECTS/dataset.png'),Path('/data/MAGNETIC_TILE_SURFACE_DEFECTS/MT_Uneven'),Path('/data/MAGNETIC_TILE_SURFACE_DEFECTS/MT_Crack'),Path('/data/MAGNETIC_TILE_SURFACE_DEFECTS/README.md'),Path('/data/MAGNETIC_TILE_SURFACE_DEFECTS/MT_Fray'),Path('/data/MAGNETIC_TILE_SURFACE_DEFECTS/dataset.jpg'),Path('/data/MAGNETIC_TILE_SURFACE_DEFECTS/MT_Blowhole')]"
            ]
          },
          "metadata": {},
          "execution_count": 11
        }
      ]
    },
    {
      "cell_type": "code",
      "source": [
        "dataset_path.ls()"
      ],
      "metadata": {
        "colab": {
          "base_uri": "https://localhost:8080/"
        },
        "id": "VutMbK9UFh3d",
        "outputId": "14f77b31-21ec-4e6f-99a8-095e6ae1c624"
      },
      "execution_count": 12,
      "outputs": [
        {
          "output_type": "execute_result",
          "data": {
            "text/plain": [
              "(#9) [Path('/data/MAGNETIC_TILE_SURFACE_DEFECTS/MT_Free'),Path('/data/MAGNETIC_TILE_SURFACE_DEFECTS/MT_Break'),Path('/data/MAGNETIC_TILE_SURFACE_DEFECTS/dataset.png'),Path('/data/MAGNETIC_TILE_SURFACE_DEFECTS/MT_Uneven'),Path('/data/MAGNETIC_TILE_SURFACE_DEFECTS/MT_Crack'),Path('/data/MAGNETIC_TILE_SURFACE_DEFECTS/README.md'),Path('/data/MAGNETIC_TILE_SURFACE_DEFECTS/MT_Fray'),Path('/data/MAGNETIC_TILE_SURFACE_DEFECTS/dataset.jpg'),Path('/data/MAGNETIC_TILE_SURFACE_DEFECTS/MT_Blowhole')]"
            ]
          },
          "metadata": {},
          "execution_count": 12
        }
      ]
    },
    {
      "cell_type": "code",
      "source": [
        "if (dataset_path/'MT_Free').exists():\n",
        "    shutil.rmtree(dataset_path/'MT_Free')"
      ],
      "metadata": {
        "id": "PZ-WLCG9FkC7"
      },
      "execution_count": 13,
      "outputs": []
    },
    {
      "cell_type": "code",
      "source": [
        "classes = []\n",
        "\n",
        "for ii in (dataset_path).ls():\n",
        "    if ii.is_dir() and ii.stem.startswith('MT_'):\n",
        "        classes.append(ii.stem)\n",
        "classes"
      ],
      "metadata": {
        "colab": {
          "base_uri": "https://localhost:8080/"
        },
        "id": "2Bc_OyzSFleS",
        "outputId": "daa75e25-8f13-4fe4-8e5d-1c1fdeb68bfe"
      },
      "execution_count": 14,
      "outputs": [
        {
          "output_type": "execute_result",
          "data": {
            "text/plain": [
              "['MT_Break', 'MT_Uneven', 'MT_Crack', 'MT_Fray', 'MT_Blowhole']"
            ]
          },
          "metadata": {},
          "execution_count": 14
        }
      ]
    },
    {
      "cell_type": "code",
      "source": [
        "classes_dict = {c:i+1 for i, c in enumerate(classes)}\n",
        "classes_dict"
      ],
      "metadata": {
        "colab": {
          "base_uri": "https://localhost:8080/"
        },
        "id": "vWti1MmqFr17",
        "outputId": "69c3893b-bc81-4dad-acf6-91fcc1336a2a"
      },
      "execution_count": 15,
      "outputs": [
        {
          "output_type": "execute_result",
          "data": {
            "text/plain": [
              "{'MT_Break': 1, 'MT_Uneven': 2, 'MT_Crack': 3, 'MT_Fray': 4, 'MT_Blowhole': 5}"
            ]
          },
          "metadata": {},
          "execution_count": 15
        }
      ]
    },
    {
      "cell_type": "code",
      "source": [
        "img_paths = [get_files(dataset_path/c, extensions='.jpg') for c in classes]\n",
        "img_paths = [ii for sublist in img_paths for ii in sublist]\n",
        "len(img_paths)"
      ],
      "metadata": {
        "colab": {
          "base_uri": "https://localhost:8080/"
        },
        "id": "lX4C_f9oF0pS",
        "outputId": "eff13bad-f5bb-4112-f5e1-b7a95c485db6"
      },
      "execution_count": 16,
      "outputs": [
        {
          "output_type": "execute_result",
          "data": {
            "text/plain": [
              "392"
            ]
          },
          "metadata": {},
          "execution_count": 16
        }
      ]
    },
    {
      "cell_type": "code",
      "source": [
        "msk_paths = [get_files(dataset_path/c, extensions='.png') for c in classes]\n",
        "msk_paths = [ii for sublist in msk_paths for ii in sublist]\n",
        "len(msk_paths)"
      ],
      "metadata": {
        "colab": {
          "base_uri": "https://localhost:8080/"
        },
        "id": "8qEgUSfmF5-U",
        "outputId": "51841c4c-646f-4066-b98c-5838ff23d5d9"
      },
      "execution_count": 17,
      "outputs": [
        {
          "output_type": "execute_result",
          "data": {
            "text/plain": [
              "392"
            ]
          },
          "metadata": {},
          "execution_count": 17
        }
      ]
    },
    {
      "cell_type": "code",
      "source": [
        "assert len(img_paths) == len(msk_paths)\n",
        "\n",
        "img_dir_path = dataset_path/'images'\n",
        "mask_dir_path = dataset_path/'masks'\n",
        "\n",
        "for p in [img_dir_path, mask_dir_path]:\n",
        "    p.mkdir(exist_ok=True)"
      ],
      "metadata": {
        "id": "Rd3j1yoDF8hy"
      },
      "execution_count": 18,
      "outputs": []
    },
    {
      "cell_type": "code",
      "source": [
        "np.random.seed(42)\n",
        "\n",
        "for img_path, msk_path in tqdm(zip(img_paths, msk_paths), total=len(img_paths)):\n",
        "    c = msk_path.parent.parent.stem\n",
        "    msk = np.array(Image.open(msk_path))\n",
        "    msk[msk>0] = 1 # binary segmenation: defect/defect-free\n",
        "\n",
        "    new_img_path = img_dir_path/img_path.name\n",
        "    new_mask_path = mask_dir_path/msk_path.name\n",
        "    shutil.copyfile(img_path, new_img_path)\n",
        "    Image.fromarray(msk).save(new_mask_path)"
      ],
      "metadata": {
        "colab": {
          "base_uri": "https://localhost:8080/",
          "height": 49,
          "referenced_widgets": [
            "0b84352159254fd881241ff0c463bd7a",
            "9aaca9ba93c048fa8e9ab7e3e24ae14e",
            "d28bb212cdf64ed489cae70c7f9a98c6",
            "a2bcc672b7894b9a954bfc771d130831",
            "1f35ddd6cf804e49b718a25e6d9ffc26",
            "da0c70ef3e3247be8f0ce143d64cdab2",
            "2182215cac584206a8048fb578ece39c",
            "5526b896dab7474089cb112b17157859",
            "47f6b183d9034e8f963a20dc87e7476d",
            "ee69590eb8824a298156e86da312b3ac",
            "a6450b3302cf4677a6244ec38fd0adba"
          ]
        },
        "id": "-Xa8d7A3GDyS",
        "outputId": "74bbf5eb-1af3-4e79-d30a-c38359020a0f"
      },
      "execution_count": 19,
      "outputs": [
        {
          "output_type": "display_data",
          "data": {
            "text/plain": [
              "  0%|          | 0/392 [00:00<?, ?it/s]"
            ],
            "application/vnd.jupyter.widget-view+json": {
              "version_major": 2,
              "version_minor": 0,
              "model_id": "0b84352159254fd881241ff0c463bd7a"
            }
          },
          "metadata": {}
        }
      ]
    },
    {
      "cell_type": "code",
      "source": [
        "assert len(get_files(img_dir_path, extensions='.jpg')) == len(get_files(mask_dir_path, extensions='.png'))"
      ],
      "metadata": {
        "id": "GwVuFH44GJms"
      },
      "execution_count": 20,
      "outputs": []
    },
    {
      "cell_type": "code",
      "source": [
        "test_pct = 0.2\n",
        "\n",
        "train_img_dir_path = dataset_path/'train_images'\n",
        "train_mask_dir_path = dataset_path/'train_masks'\n",
        "test_img_dir_path = dataset_path/'test_images'\n",
        "test_mask_dir_path = dataset_path/'test_masks'\n",
        "\n",
        "img_fpaths = get_files(img_dir_path, extensions='.jpg')\n",
        "test_img_fpaths = random.sample(img_fpaths, int(test_pct*len(img_fpaths)))\n",
        "train_img_fpaths = [fpath for fpath in img_fpaths if fpath not in test_img_fpaths]\n",
        "\n",
        "for dir in [train_img_dir_path,\n",
        "            train_mask_dir_path,\n",
        "            test_img_dir_path,\n",
        "            test_mask_dir_path]:\n",
        "    dir.mkdir(exist_ok=True)\n",
        "\n",
        "for img_fpath in test_img_fpaths:\n",
        "    mask_fpath = mask_dir_path/f'{img_fpath.stem}.png'\n",
        "    shutil.copy(img_fpath, test_img_dir_path)\n",
        "    shutil.copy(mask_fpath, test_mask_dir_path)\n",
        "\n",
        "for img_fpath in train_img_fpaths:\n",
        "    mask_fpath = mask_dir_path/f'{img_fpath.stem}.png'\n",
        "    shutil.copy(img_fpath, train_img_dir_path)\n",
        "    shutil.copy(mask_fpath, train_mask_dir_path)\n"
      ],
      "metadata": {
        "id": "mUWchXf-GdTj"
      },
      "execution_count": 21,
      "outputs": []
    },
    {
      "cell_type": "code",
      "source": [
        "dirs_to_keep = [img_dir_path, mask_dir_path, train_img_dir_path, train_mask_dir_path, test_img_dir_path, test_mask_dir_path]\n",
        "\n",
        "for ii in (dataset_path).ls():\n",
        "    if ii not in dirs_to_keep:\n",
        "        try: # if file\n",
        "            os.remove(ii)\n",
        "        except: # if directory\n",
        "            shutil.rmtree(ii)"
      ],
      "metadata": {
        "id": "jD-RraCJGzrL"
      },
      "execution_count": 22,
      "outputs": []
    }
  ]
}